{
 "cells": [
  {
   "cell_type": "code",
   "execution_count": 1,
   "id": "db6bad97",
   "metadata": {
    "_cell_guid": "b1076dfc-b9ad-4769-8c92-a6c4dae69d19",
    "_uuid": "8f2839f25d086af736a60e9eeb907d3b93b6e0e5",
    "execution": {
     "iopub.execute_input": "2022-12-22T19:46:14.409197Z",
     "iopub.status.busy": "2022-12-22T19:46:14.408090Z",
     "iopub.status.idle": "2022-12-22T19:46:15.682523Z",
     "shell.execute_reply": "2022-12-22T19:46:15.680905Z"
    },
    "papermill": {
     "duration": 1.285143,
     "end_time": "2022-12-22T19:46:15.685366",
     "exception": false,
     "start_time": "2022-12-22T19:46:14.400223",
     "status": "completed"
    },
    "tags": []
   },
   "outputs": [
    {
     "name": "stdout",
     "output_type": "stream",
     "text": [
      "/kaggle/input/covid19-dataset/Covid Data.csv\n"
     ]
    }
   ],
   "source": [
    "# This Python 3 environment comes with many helpful analytics libraries installed\n",
    "# It is defined by the kaggle/python Docker image: https://github.com/kaggle/docker-python\n",
    "# For example, here's several helpful packages to load\n",
    "\n",
    "import numpy as np # linear algebra\n",
    "import pandas as pd # data processing, CSV file I/O (e.g. pd.read_csv)\n",
    "import seaborn as sns \n",
    "from matplotlib import pyplot as plt\n",
    "\n",
    "# Input data files are available in the read-only \"../input/\" directory\n",
    "# For example, running this (by clicking run or pressing Shift+Enter) will list all files under the input directory\n",
    "\n",
    "import os\n",
    "for dirname, _, filenames in os.walk('/kaggle/input'):\n",
    "    for filename in filenames:\n",
    "        print(os.path.join(dirname, filename))\n",
    "\n",
    "# You can write up to 20GB to the current directory (/kaggle/working/) that gets preserved as output when you create a version using \"Save & Run All\" \n",
    "# You can also write temporary files to /kaggle/temp/, but they won't be saved outside of the current session"
   ]
  },
  {
   "cell_type": "markdown",
   "id": "946db6ae",
   "metadata": {
    "papermill": {
     "duration": 0.004061,
     "end_time": "2022-12-22T19:46:15.694167",
     "exception": false,
     "start_time": "2022-12-22T19:46:15.690106",
     "status": "completed"
    },
    "tags": []
   },
   "source": [
    "Data description (source: https://www.kaggle.com/datasets/meirnizri/covid19-dataset)\n",
    "\n",
    "The dataset was provided by the Mexican government (link). This dataset contains an enormous number of anonymized patient-related information including pre-conditions. The raw dataset consists of 21 unique features and 1,048,576 unique patients. \n",
    "\n",
    "**In the Boolean features, 1 means \"yes\" and 2 means \"no\". values as 97 and 99 are missing data.**\n",
    "\n",
    "- **sex:** 1 for female and 2 for male.\n",
    "- **age:** of the patient.\n",
    "- **classification:** covid test findings. Values 1-3 mean that the patient was diagnosed with covid in different degrees. 4 or higher means that the patient is not a carrier of covid or that the test is inconclusive.\n",
    "- **patient type:** type of care the patient received in the unit. 1 for returned home and 2 for hospitalization.\n",
    "- **pneumonia:** whether the patient already have air sacs inflammation or not.\n",
    "- **pregnancy:** whether the patient is pregnant or not.\n",
    "- **diabetes:** whether the patient has diabetes or not.\n",
    "- **copd:** Indicates whether the patient has Chronic obstructive pulmonary disease or not.\n",
    "- **asthma:** whether the patient has asthma or not.\n",
    "- **inmsupr:** whether the patient is immunosuppressed or not.\n",
    "- **hypertension:** whether the patient has hypertension or not.\n",
    "- **cardiovascular:** whether the patient has heart or blood vessels related disease.\n",
    "- **renal chronic:** whether the patient has chronic renal disease or not.\n",
    "- **other disease:** whether the patient has other disease or not.\n",
    "- **obesity:** whether the patient is obese or not.\n",
    "- **tobacco:** whether the patient is a tobacco user.\n",
    "- **usmr:** Indicates whether the patient treated medical units of the first, second or third level.\n",
    "- **medical unit:** type of institution of the National Health System that provided the care.\n",
    "- **intubed:** whether the patient was connected to the ventilator.\n",
    "- **icu:** Indicates whether the patient had been admitted to an Intensive Care Unit.\n",
    "- **date died:** If the patient died indicate the date of death, and 9999-99-99 otherwise."
   ]
  },
  {
   "cell_type": "code",
   "execution_count": 2,
   "id": "38ffc13d",
   "metadata": {
    "execution": {
     "iopub.execute_input": "2022-12-22T19:46:15.705797Z",
     "iopub.status.busy": "2022-12-22T19:46:15.704306Z",
     "iopub.status.idle": "2022-12-22T19:46:18.080382Z",
     "shell.execute_reply": "2022-12-22T19:46:18.079111Z"
    },
    "papermill": {
     "duration": 2.384274,
     "end_time": "2022-12-22T19:46:18.082899",
     "exception": false,
     "start_time": "2022-12-22T19:46:15.698625",
     "status": "completed"
    },
    "tags": []
   },
   "outputs": [
    {
     "data": {
      "text/html": [
       "<div>\n",
       "<style scoped>\n",
       "    .dataframe tbody tr th:only-of-type {\n",
       "        vertical-align: middle;\n",
       "    }\n",
       "\n",
       "    .dataframe tbody tr th {\n",
       "        vertical-align: top;\n",
       "    }\n",
       "\n",
       "    .dataframe thead th {\n",
       "        text-align: right;\n",
       "    }\n",
       "</style>\n",
       "<table border=\"1\" class=\"dataframe\">\n",
       "  <thead>\n",
       "    <tr style=\"text-align: right;\">\n",
       "      <th></th>\n",
       "      <th>USMER</th>\n",
       "      <th>MEDICAL_UNIT</th>\n",
       "      <th>SEX</th>\n",
       "      <th>PATIENT_TYPE</th>\n",
       "      <th>DATE_DIED</th>\n",
       "      <th>INTUBED</th>\n",
       "      <th>PNEUMONIA</th>\n",
       "      <th>AGE</th>\n",
       "      <th>PREGNANT</th>\n",
       "      <th>DIABETES</th>\n",
       "      <th>...</th>\n",
       "      <th>ASTHMA</th>\n",
       "      <th>INMSUPR</th>\n",
       "      <th>HIPERTENSION</th>\n",
       "      <th>OTHER_DISEASE</th>\n",
       "      <th>CARDIOVASCULAR</th>\n",
       "      <th>OBESITY</th>\n",
       "      <th>RENAL_CHRONIC</th>\n",
       "      <th>TOBACCO</th>\n",
       "      <th>CLASIFFICATION_FINAL</th>\n",
       "      <th>ICU</th>\n",
       "    </tr>\n",
       "  </thead>\n",
       "  <tbody>\n",
       "    <tr>\n",
       "      <th>1048570</th>\n",
       "      <td>2</td>\n",
       "      <td>13</td>\n",
       "      <td>2</td>\n",
       "      <td>1</td>\n",
       "      <td>9999-99-99</td>\n",
       "      <td>97</td>\n",
       "      <td>2</td>\n",
       "      <td>40</td>\n",
       "      <td>97</td>\n",
       "      <td>2</td>\n",
       "      <td>...</td>\n",
       "      <td>2</td>\n",
       "      <td>2</td>\n",
       "      <td>2</td>\n",
       "      <td>2</td>\n",
       "      <td>2</td>\n",
       "      <td>2</td>\n",
       "      <td>2</td>\n",
       "      <td>2</td>\n",
       "      <td>7</td>\n",
       "      <td>97</td>\n",
       "    </tr>\n",
       "    <tr>\n",
       "      <th>1048571</th>\n",
       "      <td>1</td>\n",
       "      <td>13</td>\n",
       "      <td>2</td>\n",
       "      <td>2</td>\n",
       "      <td>9999-99-99</td>\n",
       "      <td>2</td>\n",
       "      <td>2</td>\n",
       "      <td>51</td>\n",
       "      <td>97</td>\n",
       "      <td>2</td>\n",
       "      <td>...</td>\n",
       "      <td>2</td>\n",
       "      <td>2</td>\n",
       "      <td>1</td>\n",
       "      <td>2</td>\n",
       "      <td>2</td>\n",
       "      <td>2</td>\n",
       "      <td>2</td>\n",
       "      <td>2</td>\n",
       "      <td>7</td>\n",
       "      <td>2</td>\n",
       "    </tr>\n",
       "    <tr>\n",
       "      <th>1048572</th>\n",
       "      <td>2</td>\n",
       "      <td>13</td>\n",
       "      <td>2</td>\n",
       "      <td>1</td>\n",
       "      <td>9999-99-99</td>\n",
       "      <td>97</td>\n",
       "      <td>2</td>\n",
       "      <td>55</td>\n",
       "      <td>97</td>\n",
       "      <td>2</td>\n",
       "      <td>...</td>\n",
       "      <td>2</td>\n",
       "      <td>2</td>\n",
       "      <td>2</td>\n",
       "      <td>2</td>\n",
       "      <td>2</td>\n",
       "      <td>2</td>\n",
       "      <td>2</td>\n",
       "      <td>2</td>\n",
       "      <td>7</td>\n",
       "      <td>97</td>\n",
       "    </tr>\n",
       "    <tr>\n",
       "      <th>1048573</th>\n",
       "      <td>2</td>\n",
       "      <td>13</td>\n",
       "      <td>2</td>\n",
       "      <td>1</td>\n",
       "      <td>9999-99-99</td>\n",
       "      <td>97</td>\n",
       "      <td>2</td>\n",
       "      <td>28</td>\n",
       "      <td>97</td>\n",
       "      <td>2</td>\n",
       "      <td>...</td>\n",
       "      <td>2</td>\n",
       "      <td>2</td>\n",
       "      <td>2</td>\n",
       "      <td>2</td>\n",
       "      <td>2</td>\n",
       "      <td>2</td>\n",
       "      <td>2</td>\n",
       "      <td>2</td>\n",
       "      <td>7</td>\n",
       "      <td>97</td>\n",
       "    </tr>\n",
       "    <tr>\n",
       "      <th>1048574</th>\n",
       "      <td>2</td>\n",
       "      <td>13</td>\n",
       "      <td>2</td>\n",
       "      <td>1</td>\n",
       "      <td>9999-99-99</td>\n",
       "      <td>97</td>\n",
       "      <td>2</td>\n",
       "      <td>52</td>\n",
       "      <td>97</td>\n",
       "      <td>2</td>\n",
       "      <td>...</td>\n",
       "      <td>2</td>\n",
       "      <td>2</td>\n",
       "      <td>2</td>\n",
       "      <td>2</td>\n",
       "      <td>2</td>\n",
       "      <td>2</td>\n",
       "      <td>2</td>\n",
       "      <td>2</td>\n",
       "      <td>7</td>\n",
       "      <td>97</td>\n",
       "    </tr>\n",
       "  </tbody>\n",
       "</table>\n",
       "<p>5 rows × 21 columns</p>\n",
       "</div>"
      ],
      "text/plain": [
       "         USMER  MEDICAL_UNIT  SEX  PATIENT_TYPE   DATE_DIED  INTUBED  \\\n",
       "1048570      2            13    2             1  9999-99-99       97   \n",
       "1048571      1            13    2             2  9999-99-99        2   \n",
       "1048572      2            13    2             1  9999-99-99       97   \n",
       "1048573      2            13    2             1  9999-99-99       97   \n",
       "1048574      2            13    2             1  9999-99-99       97   \n",
       "\n",
       "         PNEUMONIA  AGE  PREGNANT  DIABETES  ...  ASTHMA  INMSUPR  \\\n",
       "1048570          2   40        97         2  ...       2        2   \n",
       "1048571          2   51        97         2  ...       2        2   \n",
       "1048572          2   55        97         2  ...       2        2   \n",
       "1048573          2   28        97         2  ...       2        2   \n",
       "1048574          2   52        97         2  ...       2        2   \n",
       "\n",
       "         HIPERTENSION  OTHER_DISEASE  CARDIOVASCULAR  OBESITY  RENAL_CHRONIC  \\\n",
       "1048570             2              2               2        2              2   \n",
       "1048571             1              2               2        2              2   \n",
       "1048572             2              2               2        2              2   \n",
       "1048573             2              2               2        2              2   \n",
       "1048574             2              2               2        2              2   \n",
       "\n",
       "         TOBACCO  CLASIFFICATION_FINAL  ICU  \n",
       "1048570        2                     7   97  \n",
       "1048571        2                     7    2  \n",
       "1048572        2                     7   97  \n",
       "1048573        2                     7   97  \n",
       "1048574        2                     7   97  \n",
       "\n",
       "[5 rows x 21 columns]"
      ]
     },
     "execution_count": 2,
     "metadata": {},
     "output_type": "execute_result"
    }
   ],
   "source": [
    "#import data\n",
    "data = pd.read_csv('/kaggle/input/covid19-dataset/Covid Data.csv')\n",
    "\n",
    "#having a first look at the data\n",
    "data.head()\n",
    "data.tail()"
   ]
  },
  {
   "cell_type": "code",
   "execution_count": 3,
   "id": "251f8932",
   "metadata": {
    "execution": {
     "iopub.execute_input": "2022-12-22T19:46:18.094027Z",
     "iopub.status.busy": "2022-12-22T19:46:18.093599Z",
     "iopub.status.idle": "2022-12-22T19:46:18.102106Z",
     "shell.execute_reply": "2022-12-22T19:46:18.100588Z"
    },
    "papermill": {
     "duration": 0.017082,
     "end_time": "2022-12-22T19:46:18.104773",
     "exception": false,
     "start_time": "2022-12-22T19:46:18.087691",
     "status": "completed"
    },
    "tags": []
   },
   "outputs": [
    {
     "data": {
      "text/plain": [
       "Index(['USMER', 'MEDICAL_UNIT', 'SEX', 'PATIENT_TYPE', 'DATE_DIED', 'INTUBED',\n",
       "       'PNEUMONIA', 'AGE', 'PREGNANT', 'DIABETES', 'COPD', 'ASTHMA', 'INMSUPR',\n",
       "       'HIPERTENSION', 'OTHER_DISEASE', 'CARDIOVASCULAR', 'OBESITY',\n",
       "       'RENAL_CHRONIC', 'TOBACCO', 'CLASIFFICATION_FINAL', 'ICU'],\n",
       "      dtype='object')"
      ]
     },
     "execution_count": 3,
     "metadata": {},
     "output_type": "execute_result"
    }
   ],
   "source": [
    "#having a look at the columns names\n",
    "data.columns"
   ]
  },
  {
   "cell_type": "code",
   "execution_count": 4,
   "id": "e48d9354",
   "metadata": {
    "execution": {
     "iopub.execute_input": "2022-12-22T19:46:18.116671Z",
     "iopub.status.busy": "2022-12-22T19:46:18.116257Z",
     "iopub.status.idle": "2022-12-22T19:46:18.172692Z",
     "shell.execute_reply": "2022-12-22T19:46:18.171466Z"
    },
    "papermill": {
     "duration": 0.065789,
     "end_time": "2022-12-22T19:46:18.175785",
     "exception": false,
     "start_time": "2022-12-22T19:46:18.109996",
     "status": "completed"
    },
    "tags": []
   },
   "outputs": [
    {
     "data": {
      "text/plain": [
       "count    1048575.0\n",
       "mean          42.0\n",
       "std           17.0\n",
       "min            0.0\n",
       "25%           30.0\n",
       "50%           40.0\n",
       "75%           53.0\n",
       "max          121.0\n",
       "Name: AGE, dtype: float64"
      ]
     },
     "execution_count": 4,
     "metadata": {},
     "output_type": "execute_result"
    }
   ],
   "source": [
    "#lets describe the 'age' column\n",
    "round(data['AGE'].describe())"
   ]
  },
  {
   "cell_type": "code",
   "execution_count": 5,
   "id": "27934c03",
   "metadata": {
    "execution": {
     "iopub.execute_input": "2022-12-22T19:46:18.188363Z",
     "iopub.status.busy": "2022-12-22T19:46:18.187605Z",
     "iopub.status.idle": "2022-12-22T19:46:19.719766Z",
     "shell.execute_reply": "2022-12-22T19:46:19.718256Z"
    },
    "papermill": {
     "duration": 1.541366,
     "end_time": "2022-12-22T19:46:19.722543",
     "exception": false,
     "start_time": "2022-12-22T19:46:18.181177",
     "status": "completed"
    },
    "tags": []
   },
   "outputs": [
    {
     "data": {
      "image/png": "[encoded data removed]",
      "text/plain": [
       "<Figure size 432x288 with 1 Axes>"
      ]
     },
     "metadata": {
      "needs_background": "light"
     },
     "output_type": "display_data"
    }
   ],
   "source": [
    "#lets see if there is a relationship between age and covid-19 hospitalization\n",
    "\n",
    "#patients diagnosed with COVID without the necessity of hospitalization\n",
    "\n",
    "#data distribution\n",
    "p_type = sns.histplot(data = data, x='AGE', hue = 'PATIENT_TYPE') \n",
    "plt.legend(title='Hospitalization', loc='upper right', labels=['Yes', 'No'])\n",
    "plt.show(p_type)"
   ]
  },
  {
   "cell_type": "markdown",
   "id": "856eb864",
   "metadata": {
    "papermill": {
     "duration": 0.005465,
     "end_time": "2022-12-22T19:46:19.735464",
     "exception": false,
     "start_time": "2022-12-22T19:46:19.729999",
     "status": "completed"
    },
    "tags": []
   },
   "source": [
    "In this dataset, we have more not-hospitalized people than hospitalized ones. The hospitalizations occurs predominantly in elderly people (age >= 60). Infants also looks like a risk-group for COVID-19 because nearly 100% of then (age closer to 0) also were hospitalized."
   ]
  },
  {
   "cell_type": "code",
   "execution_count": 6,
   "id": "81f9b0f5",
   "metadata": {
    "execution": {
     "iopub.execute_input": "2022-12-22T19:46:19.749260Z",
     "iopub.status.busy": "2022-12-22T19:46:19.748832Z",
     "iopub.status.idle": "2022-12-22T19:46:20.089173Z",
     "shell.execute_reply": "2022-12-22T19:46:20.087876Z"
    },
    "papermill": {
     "duration": 0.350168,
     "end_time": "2022-12-22T19:46:20.091774",
     "exception": false,
     "start_time": "2022-12-22T19:46:19.741606",
     "status": "completed"
    },
    "tags": []
   },
   "outputs": [
    {
     "data": {
      "text/html": [
       "<div>\n",
       "<style scoped>\n",
       "    .dataframe tbody tr th:only-of-type {\n",
       "        vertical-align: middle;\n",
       "    }\n",
       "\n",
       "    .dataframe tbody tr th {\n",
       "        vertical-align: top;\n",
       "    }\n",
       "\n",
       "    .dataframe thead th {\n",
       "        text-align: right;\n",
       "    }\n",
       "</style>\n",
       "<table border=\"1\" class=\"dataframe\">\n",
       "  <thead>\n",
       "    <tr style=\"text-align: right;\">\n",
       "      <th></th>\n",
       "      <th>DATE_DIED</th>\n",
       "      <th>DIED</th>\n",
       "    </tr>\n",
       "  </thead>\n",
       "  <tbody>\n",
       "    <tr>\n",
       "      <th>0</th>\n",
       "      <td>03/05/2020</td>\n",
       "      <td>Yes</td>\n",
       "    </tr>\n",
       "    <tr>\n",
       "      <th>1</th>\n",
       "      <td>03/06/2020</td>\n",
       "      <td>Yes</td>\n",
       "    </tr>\n",
       "    <tr>\n",
       "      <th>2</th>\n",
       "      <td>09/06/2020</td>\n",
       "      <td>Yes</td>\n",
       "    </tr>\n",
       "    <tr>\n",
       "      <th>3</th>\n",
       "      <td>12/06/2020</td>\n",
       "      <td>Yes</td>\n",
       "    </tr>\n",
       "    <tr>\n",
       "      <th>4</th>\n",
       "      <td>21/06/2020</td>\n",
       "      <td>Yes</td>\n",
       "    </tr>\n",
       "    <tr>\n",
       "      <th>5</th>\n",
       "      <td>9999-99-99</td>\n",
       "      <td>No</td>\n",
       "    </tr>\n",
       "    <tr>\n",
       "      <th>6</th>\n",
       "      <td>9999-99-99</td>\n",
       "      <td>No</td>\n",
       "    </tr>\n",
       "    <tr>\n",
       "      <th>7</th>\n",
       "      <td>9999-99-99</td>\n",
       "      <td>No</td>\n",
       "    </tr>\n",
       "    <tr>\n",
       "      <th>8</th>\n",
       "      <td>9999-99-99</td>\n",
       "      <td>No</td>\n",
       "    </tr>\n",
       "    <tr>\n",
       "      <th>9</th>\n",
       "      <td>9999-99-99</td>\n",
       "      <td>No</td>\n",
       "    </tr>\n",
       "  </tbody>\n",
       "</table>\n",
       "</div>"
      ],
      "text/plain": [
       "    DATE_DIED DIED\n",
       "0  03/05/2020  Yes\n",
       "1  03/06/2020  Yes\n",
       "2  09/06/2020  Yes\n",
       "3  12/06/2020  Yes\n",
       "4  21/06/2020  Yes\n",
       "5  9999-99-99   No\n",
       "6  9999-99-99   No\n",
       "7  9999-99-99   No\n",
       "8  9999-99-99   No\n",
       "9  9999-99-99   No"
      ]
     },
     "execution_count": 6,
     "metadata": {},
     "output_type": "execute_result"
    }
   ],
   "source": [
    "#lets see how hospitalization and deaths correlates with age; \n",
    "#first lets stablish a binary way of identify if the patient died; \n",
    "#following the boolean code of the already existing features, lts stablish 1 for patients who died and 2 for patient who didn't die\n",
    "\n",
    "deaths = data\n",
    "deaths.loc[deaths['DATE_DIED'] =='9999-99-99', 'DIED'] = \"No\"\n",
    "deaths.loc[deaths['DATE_DIED'] !='9999-99-99', 'DIED'] = \"Yes\"\n",
    "\n",
    "#verify if the column was correctly created\n",
    "deaths[['DATE_DIED', 'DIED']].head(10)\n"
   ]
  },
  {
   "cell_type": "code",
   "execution_count": 7,
   "id": "343d09ea",
   "metadata": {
    "execution": {
     "iopub.execute_input": "2022-12-22T19:46:20.104848Z",
     "iopub.status.busy": "2022-12-22T19:46:20.103933Z",
     "iopub.status.idle": "2022-12-22T19:46:20.400252Z",
     "shell.execute_reply": "2022-12-22T19:46:20.399112Z"
    },
    "papermill": {
     "duration": 0.305671,
     "end_time": "2022-12-22T19:46:20.403038",
     "exception": false,
     "start_time": "2022-12-22T19:46:20.097367",
     "status": "completed"
    },
    "tags": []
   },
   "outputs": [
    {
     "data": {
      "text/html": [
       "<div>\n",
       "<style scoped>\n",
       "    .dataframe tbody tr th:only-of-type {\n",
       "        vertical-align: middle;\n",
       "    }\n",
       "\n",
       "    .dataframe tbody tr th {\n",
       "        vertical-align: top;\n",
       "    }\n",
       "\n",
       "    .dataframe thead th {\n",
       "        text-align: right;\n",
       "    }\n",
       "</style>\n",
       "<table border=\"1\" class=\"dataframe\">\n",
       "  <thead>\n",
       "    <tr style=\"text-align: right;\">\n",
       "      <th></th>\n",
       "      <th>PATIENT_TYPE</th>\n",
       "      <th>HOSPITALIZED</th>\n",
       "    </tr>\n",
       "  </thead>\n",
       "  <tbody>\n",
       "    <tr>\n",
       "      <th>0</th>\n",
       "      <td>1</td>\n",
       "      <td>No</td>\n",
       "    </tr>\n",
       "    <tr>\n",
       "      <th>1</th>\n",
       "      <td>1</td>\n",
       "      <td>No</td>\n",
       "    </tr>\n",
       "    <tr>\n",
       "      <th>2</th>\n",
       "      <td>2</td>\n",
       "      <td>Yes</td>\n",
       "    </tr>\n",
       "    <tr>\n",
       "      <th>3</th>\n",
       "      <td>1</td>\n",
       "      <td>No</td>\n",
       "    </tr>\n",
       "    <tr>\n",
       "      <th>4</th>\n",
       "      <td>1</td>\n",
       "      <td>No</td>\n",
       "    </tr>\n",
       "    <tr>\n",
       "      <th>5</th>\n",
       "      <td>2</td>\n",
       "      <td>Yes</td>\n",
       "    </tr>\n",
       "    <tr>\n",
       "      <th>6</th>\n",
       "      <td>1</td>\n",
       "      <td>No</td>\n",
       "    </tr>\n",
       "    <tr>\n",
       "      <th>7</th>\n",
       "      <td>1</td>\n",
       "      <td>No</td>\n",
       "    </tr>\n",
       "    <tr>\n",
       "      <th>8</th>\n",
       "      <td>2</td>\n",
       "      <td>Yes</td>\n",
       "    </tr>\n",
       "    <tr>\n",
       "      <th>9</th>\n",
       "      <td>2</td>\n",
       "      <td>Yes</td>\n",
       "    </tr>\n",
       "  </tbody>\n",
       "</table>\n",
       "</div>"
      ],
      "text/plain": [
       "   PATIENT_TYPE HOSPITALIZED\n",
       "0             1           No\n",
       "1             1           No\n",
       "2             2          Yes\n",
       "3             1           No\n",
       "4             1           No\n",
       "5             2          Yes\n",
       "6             1           No\n",
       "7             1           No\n",
       "8             2          Yes\n",
       "9             2          Yes"
      ]
     },
     "execution_count": 7,
     "metadata": {},
     "output_type": "execute_result"
    }
   ],
   "source": [
    "#lets also clarify the patient type\n",
    "deaths.loc[deaths['PATIENT_TYPE'] ==2, 'HOSPITALIZED'] = \"Yes\"\n",
    "deaths.loc[deaths['PATIENT_TYPE'] ==1, 'HOSPITALIZED'] = \"No\"\n",
    "\n",
    "#verify if the column was correctly created\n",
    "deaths[['PATIENT_TYPE', 'HOSPITALIZED']].head(10)"
   ]
  },
  {
   "cell_type": "code",
   "execution_count": 8,
   "id": "c148cf15",
   "metadata": {
    "execution": {
     "iopub.execute_input": "2022-12-22T19:46:20.416973Z",
     "iopub.status.busy": "2022-12-22T19:46:20.415948Z",
     "iopub.status.idle": "2022-12-22T19:46:35.004137Z",
     "shell.execute_reply": "2022-12-22T19:46:35.003113Z"
    },
    "papermill": {
     "duration": 14.598341,
     "end_time": "2022-12-22T19:46:35.007144",
     "exception": false,
     "start_time": "2022-12-22T19:46:20.408803",
     "status": "completed"
    },
    "tags": []
   },
   "outputs": [
    {
     "data": {
      "image/png": "[encoded data removed]",
      "text/plain": [
       "<Figure size 432x288 with 1 Axes>"
      ]
     },
     "metadata": {
      "needs_background": "light"
     },
     "output_type": "display_data"
    }
   ],
   "source": [
    "d = sns.histplot(data=deaths, x='AGE', hue=deaths[['HOSPITALIZED', 'DIED']].apply(tuple, axis=1),fill=False) \n",
    "d.set(title='Hospitalized | Died')\n",
    "plt.show(d)"
   ]
  },
  {
   "cell_type": "markdown",
   "id": "3ad732b7",
   "metadata": {
    "papermill": {
     "duration": 0.006304,
     "end_time": "2022-12-22T19:46:35.019621",
     "exception": false,
     "start_time": "2022-12-22T19:46:35.013317",
     "status": "completed"
    },
    "tags": []
   },
   "source": [
    "Its possible to note that for ages < 80 years the majority of people were not hospitalized and did not died. We also can see that infants were largely hospitalized, but the death of COVID-19 is a rare event for this age. Although, after the 40's, the number of hospitalization and the number of deaths increases. After the 60's, nearly all the hospitalized people died, reinforcing the age as a important risk-factor of severe COVID-19. There is a quantity of people that died without being hospitalized. This number is small when compared with the other proportions but is also more prevalent in patients with age > 40 years.\n"
   ]
  },
  {
   "cell_type": "code",
   "execution_count": 9,
   "id": "9b4ae43a",
   "metadata": {
    "execution": {
     "iopub.execute_input": "2022-12-22T19:46:35.034188Z",
     "iopub.status.busy": "2022-12-22T19:46:35.033155Z",
     "iopub.status.idle": "2022-12-22T19:46:35.071352Z",
     "shell.execute_reply": "2022-12-22T19:46:35.069854Z"
    },
    "papermill": {
     "duration": 0.048123,
     "end_time": "2022-12-22T19:46:35.073958",
     "exception": false,
     "start_time": "2022-12-22T19:46:35.025835",
     "status": "completed"
    },
    "tags": []
   },
   "outputs": [
    {
     "name": "stdout",
     "output_type": "stream",
     "text": [
      "n_females:  525064 n_males : 523511 abs_diff:  1553\n"
     ]
    }
   ],
   "source": [
    "#lets see how the genre relates to age and covid-19 death\n",
    "\n",
    "#see how many males and females we have in the dataset\n",
    "n_females = data['SEX'].loc[(data.SEX == 1)].count()\n",
    "n_males = data['SEX'].loc[(data.SEX == 2)].count()\n",
    "print('n_females: ', n_females, 'n_males :', n_males, 'abs_diff: ', abs(n_females-n_males))"
   ]
  },
  {
   "cell_type": "markdown",
   "id": "e5c63385",
   "metadata": {
    "papermill": {
     "duration": 0.00557,
     "end_time": "2022-12-22T19:46:35.085654",
     "exception": false,
     "start_time": "2022-12-22T19:46:35.080084",
     "status": "completed"
    },
    "tags": []
   },
   "source": [
    "We can see we have more females than males, but the difference is not so large so we propably don't have a significant bias on this variable"
   ]
  },
  {
   "cell_type": "code",
   "execution_count": 10,
   "id": "82469308",
   "metadata": {
    "execution": {
     "iopub.execute_input": "2022-12-22T19:46:35.100515Z",
     "iopub.status.busy": "2022-12-22T19:46:35.098995Z",
     "iopub.status.idle": "2022-12-22T19:46:35.849715Z",
     "shell.execute_reply": "2022-12-22T19:46:35.848313Z"
    },
    "papermill": {
     "duration": 0.761055,
     "end_time": "2022-12-22T19:46:35.852555",
     "exception": false,
     "start_time": "2022-12-22T19:46:35.091500",
     "status": "completed"
    },
    "tags": []
   },
   "outputs": [
    {
     "data": {
      "image/png": "[encoded data removed]",
      "text/plain": [
       "<Figure size 432x288 with 1 Axes>"
      ]
     },
     "metadata": {
      "needs_background": "light"
     },
     "output_type": "display_data"
    }
   ],
   "source": [
    "#lets see how the genre relates to age and covid-19 death\n",
    "hospitalized_and_death = data.loc[(data.PATIENT_TYPE == 2) & (data.DATE_DIED != '9999-99-99')]\n",
    "\n",
    "g = sns.kdeplot(data=hospitalized_and_death, x='AGE', hue='SEX')\n",
    "plt.legend(title='Sex', loc='upper left', labels=['Male', 'Female'])\n",
    "plt.show(g)"
   ]
  },
  {
   "cell_type": "markdown",
   "id": "a5c52476",
   "metadata": {
    "papermill": {
     "duration": 0.00702,
     "end_time": "2022-12-22T19:46:35.867252",
     "exception": false,
     "start_time": "2022-12-22T19:46:35.860232",
     "status": "completed"
    },
    "tags": []
   },
   "source": [
    "We can see that although we have more females in the dataset, the majority of deaths of hospitalized patients are from males. This could indicate a correlation between genre and COVID-19 severity"
   ]
  }
 ],
 "metadata": {
  "kernelspec": {
   "display_name": "Python 3",
   "language": "python",
   "name": "python3"
  },
  "language_info": {
   "codemirror_mode": {
    "name": "ipython",
    "version": 3
   },
   "file_extension": ".py",
   "mimetype": "text/x-python",
   "name": "python",
   "nbconvert_exporter": "python",
   "pygments_lexer": "ipython3",
   "version": "3.7.12"
  },
  "papermill": {
   "default_parameters": {},
   "duration": 31.72187,
   "end_time": "2022-12-22T19:46:36.798181",
   "environment_variables": {},
   "exception": null,
   "input_path": "__notebook__.ipynb",
   "output_path": "__notebook__.ipynb",
   "parameters": {},
   "start_time": "2022-12-22T19:46:05.076311",
   "version": "2.3.4"
  }
 },
 "nbformat": 4,
 "nbformat_minor": 5
}
