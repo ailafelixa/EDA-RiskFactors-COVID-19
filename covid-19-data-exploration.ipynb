{
 "cells": [
  {
   "cell_type": "code",
   "execution_count": 1,
   "id": "de78f73c",
   "metadata": {
    "_cell_guid": "b1076dfc-b9ad-4769-8c92-a6c4dae69d19",
    "_uuid": "8f2839f25d086af736a60e9eeb907d3b93b6e0e5",
    "execution": {
     "iopub.execute_input": "2022-12-20T20:46:12.100533Z",
     "iopub.status.busy": "2022-12-20T20:46:12.100107Z",
     "iopub.status.idle": "2022-12-20T20:46:13.085868Z",
     "shell.execute_reply": "2022-12-20T20:46:13.084052Z"
    },
    "papermill": {
     "duration": 0.994109,
     "end_time": "2022-12-20T20:46:13.088148",
     "exception": false,
     "start_time": "2022-12-20T20:46:12.094039",
     "status": "completed"
    },
    "tags": []
   },
   "outputs": [
    {
     "name": "stdout",
     "output_type": "stream",
     "text": [
      "/kaggle/input/covid19-dataset/Covid Data.csv\n"
     ]
    }
   ],
   "source": [
    "# This Python 3 environment comes with many helpful analytics libraries installed\n",
    "# It is defined by the kaggle/python Docker image: https://github.com/kaggle/docker-python\n",
    "# For example, here's several helpful packages to load\n",
    "\n",
    "import numpy as np # linear algebra\n",
    "import pandas as pd # data processing, CSV file I/O (e.g. pd.read_csv)\n",
    "import seaborn as sns \n",
    "from matplotlib import pyplot as plt\n",
    "\n",
    "# Input data files are available in the read-only \"../input/\" directory\n",
    "# For example, running this (by clicking run or pressing Shift+Enter) will list all files under the input directory\n",
    "\n",
    "import os\n",
    "for dirname, _, filenames in os.walk('/kaggle/input'):\n",
    "    for filename in filenames:\n",
    "        print(os.path.join(dirname, filename))\n",
    "\n",
    "# You can write up to 20GB to the current directory (/kaggle/working/) that gets preserved as output when you create a version using \"Save & Run All\" \n",
    "# You can also write temporary files to /kaggle/temp/, but they won't be saved outside of the current session"
   ]
  },
  {
   "cell_type": "markdown",
   "id": "c4d5fe3f",
   "metadata": {
    "papermill": {
     "duration": 0.003341,
     "end_time": "2022-12-20T20:46:13.095363",
     "exception": false,
     "start_time": "2022-12-20T20:46:13.092022",
     "status": "completed"
    },
    "tags": []
   },
   "source": [
    "Data description (source: https://www.kaggle.com/datasets/meirnizri/covid19-dataset)\n",
    "\n",
    "The dataset was provided by the Mexican government (link). This dataset contains an enormous number of anonymized patient-related information including pre-conditions. The raw dataset consists of 21 unique features and 1,048,576 unique patients. \n",
    "\n",
    "**In the Boolean features, 1 means \"yes\" and 2 means \"no\". values as 97 and 99 are missing data.**\n",
    "\n",
    "- **sex:** 1 for female and 2 for male.\n",
    "- **age:** of the patient.\n",
    "- **classification:** covid test findings. Values 1-3 mean that the patient was diagnosed with covid in different degrees. 4 or higher means that the patient is not a carrier of covid or that the test is inconclusive.\n",
    "- **patient type:** type of care the patient received in the unit. 1 for returned home and 2 for hospitalization.\n",
    "- **pneumonia:** whether the patient already have air sacs inflammation or not.\n",
    "- **pregnancy:** whether the patient is pregnant or not.\n",
    "- **diabetes:** whether the patient has diabetes or not.\n",
    "- **copd:** Indicates whether the patient has Chronic obstructive pulmonary disease or not.\n",
    "- **asthma:** whether the patient has asthma or not.\n",
    "- **inmsupr:** whether the patient is immunosuppressed or not.\n",
    "- **hypertension:** whether the patient has hypertension or not.\n",
    "- **cardiovascular:** whether the patient has heart or blood vessels related disease.\n",
    "- **renal chronic:** whether the patient has chronic renal disease or not.\n",
    "- **other disease:** whether the patient has other disease or not.\n",
    "- **obesity:** whether the patient is obese or not.\n",
    "- **tobacco:** whether the patient is a tobacco user.\n",
    "- **usmr:** Indicates whether the patient treated medical units of the first, second or third level.\n",
    "- **medical unit:** type of institution of the National Health System that provided the care.\n",
    "- **intubed:** whether the patient was connected to the ventilator.\n",
    "- **icu:** Indicates whether the patient had been admitted to an Intensive Care Unit.\n",
    "- **date died:** If the patient died indicate the date of death, and 9999-99-99 otherwise."
   ]
  },
  {
   "cell_type": "code",
   "execution_count": 2,
   "id": "2a2f93a5",
   "metadata": {
    "execution": {
     "iopub.execute_input": "2022-12-20T20:46:13.104942Z",
     "iopub.status.busy": "2022-12-20T20:46:13.103611Z",
     "iopub.status.idle": "2022-12-20T20:46:14.993621Z",
     "shell.execute_reply": "2022-12-20T20:46:14.992598Z"
    },
    "papermill": {
     "duration": 1.897138,
     "end_time": "2022-12-20T20:46:14.996088",
     "exception": false,
     "start_time": "2022-12-20T20:46:13.098950",
     "status": "completed"
    },
    "tags": []
   },
   "outputs": [
    {
     "data": {
      "text/html": [
       "<div>\n",
       "<style scoped>\n",
       "    .dataframe tbody tr th:only-of-type {\n",
       "        vertical-align: middle;\n",
       "    }\n",
       "\n",
       "    .dataframe tbody tr th {\n",
       "        vertical-align: top;\n",
       "    }\n",
       "\n",
       "    .dataframe thead th {\n",
       "        text-align: right;\n",
       "    }\n",
       "</style>\n",
       "<table border=\"1\" class=\"dataframe\">\n",
       "  <thead>\n",
       "    <tr style=\"text-align: right;\">\n",
       "      <th></th>\n",
       "      <th>USMER</th>\n",
       "      <th>MEDICAL_UNIT</th>\n",
       "      <th>SEX</th>\n",
       "      <th>PATIENT_TYPE</th>\n",
       "      <th>DATE_DIED</th>\n",
       "      <th>INTUBED</th>\n",
       "      <th>PNEUMONIA</th>\n",
       "      <th>AGE</th>\n",
       "      <th>PREGNANT</th>\n",
       "      <th>DIABETES</th>\n",
       "      <th>...</th>\n",
       "      <th>ASTHMA</th>\n",
       "      <th>INMSUPR</th>\n",
       "      <th>HIPERTENSION</th>\n",
       "      <th>OTHER_DISEASE</th>\n",
       "      <th>CARDIOVASCULAR</th>\n",
       "      <th>OBESITY</th>\n",
       "      <th>RENAL_CHRONIC</th>\n",
       "      <th>TOBACCO</th>\n",
       "      <th>CLASIFFICATION_FINAL</th>\n",
       "      <th>ICU</th>\n",
       "    </tr>\n",
       "  </thead>\n",
       "  <tbody>\n",
       "    <tr>\n",
       "      <th>1048570</th>\n",
       "      <td>2</td>\n",
       "      <td>13</td>\n",
       "      <td>2</td>\n",
       "      <td>1</td>\n",
       "      <td>9999-99-99</td>\n",
       "      <td>97</td>\n",
       "      <td>2</td>\n",
       "      <td>40</td>\n",
       "      <td>97</td>\n",
       "      <td>2</td>\n",
       "      <td>...</td>\n",
       "      <td>2</td>\n",
       "      <td>2</td>\n",
       "      <td>2</td>\n",
       "      <td>2</td>\n",
       "      <td>2</td>\n",
       "      <td>2</td>\n",
       "      <td>2</td>\n",
       "      <td>2</td>\n",
       "      <td>7</td>\n",
       "      <td>97</td>\n",
       "    </tr>\n",
       "    <tr>\n",
       "      <th>1048571</th>\n",
       "      <td>1</td>\n",
       "      <td>13</td>\n",
       "      <td>2</td>\n",
       "      <td>2</td>\n",
       "      <td>9999-99-99</td>\n",
       "      <td>2</td>\n",
       "      <td>2</td>\n",
       "      <td>51</td>\n",
       "      <td>97</td>\n",
       "      <td>2</td>\n",
       "      <td>...</td>\n",
       "      <td>2</td>\n",
       "      <td>2</td>\n",
       "      <td>1</td>\n",
       "      <td>2</td>\n",
       "      <td>2</td>\n",
       "      <td>2</td>\n",
       "      <td>2</td>\n",
       "      <td>2</td>\n",
       "      <td>7</td>\n",
       "      <td>2</td>\n",
       "    </tr>\n",
       "    <tr>\n",
       "      <th>1048572</th>\n",
       "      <td>2</td>\n",
       "      <td>13</td>\n",
       "      <td>2</td>\n",
       "      <td>1</td>\n",
       "      <td>9999-99-99</td>\n",
       "      <td>97</td>\n",
       "      <td>2</td>\n",
       "      <td>55</td>\n",
       "      <td>97</td>\n",
       "      <td>2</td>\n",
       "      <td>...</td>\n",
       "      <td>2</td>\n",
       "      <td>2</td>\n",
       "      <td>2</td>\n",
       "      <td>2</td>\n",
       "      <td>2</td>\n",
       "      <td>2</td>\n",
       "      <td>2</td>\n",
       "      <td>2</td>\n",
       "      <td>7</td>\n",
       "      <td>97</td>\n",
       "    </tr>\n",
       "    <tr>\n",
       "      <th>1048573</th>\n",
       "      <td>2</td>\n",
       "      <td>13</td>\n",
       "      <td>2</td>\n",
       "      <td>1</td>\n",
       "      <td>9999-99-99</td>\n",
       "      <td>97</td>\n",
       "      <td>2</td>\n",
       "      <td>28</td>\n",
       "      <td>97</td>\n",
       "      <td>2</td>\n",
       "      <td>...</td>\n",
       "      <td>2</td>\n",
       "      <td>2</td>\n",
       "      <td>2</td>\n",
       "      <td>2</td>\n",
       "      <td>2</td>\n",
       "      <td>2</td>\n",
       "      <td>2</td>\n",
       "      <td>2</td>\n",
       "      <td>7</td>\n",
       "      <td>97</td>\n",
       "    </tr>\n",
       "    <tr>\n",
       "      <th>1048574</th>\n",
       "      <td>2</td>\n",
       "      <td>13</td>\n",
       "      <td>2</td>\n",
       "      <td>1</td>\n",
       "      <td>9999-99-99</td>\n",
       "      <td>97</td>\n",
       "      <td>2</td>\n",
       "      <td>52</td>\n",
       "      <td>97</td>\n",
       "      <td>2</td>\n",
       "      <td>...</td>\n",
       "      <td>2</td>\n",
       "      <td>2</td>\n",
       "      <td>2</td>\n",
       "      <td>2</td>\n",
       "      <td>2</td>\n",
       "      <td>2</td>\n",
       "      <td>2</td>\n",
       "      <td>2</td>\n",
       "      <td>7</td>\n",
       "      <td>97</td>\n",
       "    </tr>\n",
       "  </tbody>\n",
       "</table>\n",
       "<p>5 rows × 21 columns</p>\n",
       "</div>"
      ],
      "text/plain": [
       "         USMER  MEDICAL_UNIT  SEX  PATIENT_TYPE   DATE_DIED  INTUBED  \\\n",
       "1048570      2            13    2             1  9999-99-99       97   \n",
       "1048571      1            13    2             2  9999-99-99        2   \n",
       "1048572      2            13    2             1  9999-99-99       97   \n",
       "1048573      2            13    2             1  9999-99-99       97   \n",
       "1048574      2            13    2             1  9999-99-99       97   \n",
       "\n",
       "         PNEUMONIA  AGE  PREGNANT  DIABETES  ...  ASTHMA  INMSUPR  \\\n",
       "1048570          2   40        97         2  ...       2        2   \n",
       "1048571          2   51        97         2  ...       2        2   \n",
       "1048572          2   55        97         2  ...       2        2   \n",
       "1048573          2   28        97         2  ...       2        2   \n",
       "1048574          2   52        97         2  ...       2        2   \n",
       "\n",
       "         HIPERTENSION  OTHER_DISEASE  CARDIOVASCULAR  OBESITY  RENAL_CHRONIC  \\\n",
       "1048570             2              2               2        2              2   \n",
       "1048571             1              2               2        2              2   \n",
       "1048572             2              2               2        2              2   \n",
       "1048573             2              2               2        2              2   \n",
       "1048574             2              2               2        2              2   \n",
       "\n",
       "         TOBACCO  CLASIFFICATION_FINAL  ICU  \n",
       "1048570        2                     7   97  \n",
       "1048571        2                     7    2  \n",
       "1048572        2                     7   97  \n",
       "1048573        2                     7   97  \n",
       "1048574        2                     7   97  \n",
       "\n",
       "[5 rows x 21 columns]"
      ]
     },
     "execution_count": 2,
     "metadata": {},
     "output_type": "execute_result"
    }
   ],
   "source": [
    "#import data\n",
    "data = pd.read_csv('/kaggle/input/covid19-dataset/Covid Data.csv')\n",
    "\n",
    "#having a first look at the data\n",
    "data.head()\n",
    "data.tail()"
   ]
  },
  {
   "cell_type": "code",
   "execution_count": 3,
   "id": "dabc7f03",
   "metadata": {
    "execution": {
     "iopub.execute_input": "2022-12-20T20:46:15.006044Z",
     "iopub.status.busy": "2022-12-20T20:46:15.005102Z",
     "iopub.status.idle": "2022-12-20T20:46:15.010936Z",
     "shell.execute_reply": "2022-12-20T20:46:15.010323Z"
    },
    "papermill": {
     "duration": 0.012143,
     "end_time": "2022-12-20T20:46:15.012463",
     "exception": false,
     "start_time": "2022-12-20T20:46:15.000320",
     "status": "completed"
    },
    "tags": []
   },
   "outputs": [
    {
     "data": {
      "text/plain": [
       "Index(['USMER', 'MEDICAL_UNIT', 'SEX', 'PATIENT_TYPE', 'DATE_DIED', 'INTUBED',\n",
       "       'PNEUMONIA', 'AGE', 'PREGNANT', 'DIABETES', 'COPD', 'ASTHMA', 'INMSUPR',\n",
       "       'HIPERTENSION', 'OTHER_DISEASE', 'CARDIOVASCULAR', 'OBESITY',\n",
       "       'RENAL_CHRONIC', 'TOBACCO', 'CLASIFFICATION_FINAL', 'ICU'],\n",
       "      dtype='object')"
      ]
     },
     "execution_count": 3,
     "metadata": {},
     "output_type": "execute_result"
    }
   ],
   "source": [
    "#having a look at the columns names\n",
    "data.columns"
   ]
  },
  {
   "cell_type": "code",
   "execution_count": 4,
   "id": "e0ef73c2",
   "metadata": {
    "execution": {
     "iopub.execute_input": "2022-12-20T20:46:15.021731Z",
     "iopub.status.busy": "2022-12-20T20:46:15.021283Z",
     "iopub.status.idle": "2022-12-20T20:46:16.277389Z",
     "shell.execute_reply": "2022-12-20T20:46:16.276259Z"
    },
    "papermill": {
     "duration": 1.26323,
     "end_time": "2022-12-20T20:46:16.279781",
     "exception": false,
     "start_time": "2022-12-20T20:46:15.016551",
     "status": "completed"
    },
    "tags": []
   },
   "outputs": [
    {
     "data": {
      "text/plain": [
       "<AxesSubplot:xlabel='AGE', ylabel='Count'>"
      ]
     },
     "execution_count": 4,
     "metadata": {},
     "output_type": "execute_result"
    },
    {
     "data": {
      "image/png": "[encoded data removed]",
      "text/plain": [
       "<Figure size 432x288 with 1 Axes>"
      ]
     },
     "metadata": {
      "needs_background": "light"
     },
     "output_type": "display_data"
    }
   ],
   "source": [
    "#age exploration\n",
    "\n",
    "#calculate the mean age of the patients included in the dataset \n",
    "data_age_mean = data['AGE'].mean()\n",
    "\n",
    "#calculate the median age of the patients included in the dataset \n",
    "data_age_median = data['AGE'].median()\n",
    "data_age_median \n",
    "\n",
    "#build a histogram to see the data distribution\n",
    "sns.histplot(data['AGE']) "
   ]
  },
  {
   "cell_type": "markdown",
   "id": "accd1a6b",
   "metadata": {
    "papermill": {
     "duration": 0.003863,
     "end_time": "2022-12-20T20:46:16.288004",
     "exception": false,
     "start_time": "2022-12-20T20:46:16.284141",
     "status": "completed"
    },
    "tags": []
   },
   "source": [
    "The data don't looks normal distributed; we have a gap on ages < 20 until the age of 0 and a little skew to the right. Let's see how it behaves according to the disease classification"
   ]
  },
  {
   "cell_type": "code",
   "execution_count": 5,
   "id": "cc487f5e",
   "metadata": {
    "execution": {
     "iopub.execute_input": "2022-12-20T20:46:16.297760Z",
     "iopub.status.busy": "2022-12-20T20:46:16.297426Z",
     "iopub.status.idle": "2022-12-20T20:46:17.389063Z",
     "shell.execute_reply": "2022-12-20T20:46:17.387928Z"
    },
    "papermill": {
     "duration": 1.09891,
     "end_time": "2022-12-20T20:46:17.391079",
     "exception": false,
     "start_time": "2022-12-20T20:46:16.292169",
     "status": "completed"
    },
    "tags": []
   },
   "outputs": [
    {
     "data": {
      "text/plain": [
       "<AxesSubplot:xlabel='AGE', ylabel='Count'>"
      ]
     },
     "execution_count": 5,
     "metadata": {},
     "output_type": "execute_result"
    },
    {
     "data": {
      "image/png": "[encoded data removed]",
      "text/plain": [
       "<Figure size 432x288 with 1 Axes>"
      ]
     },
     "metadata": {
      "needs_background": "light"
     },
     "output_type": "display_data"
    }
   ],
   "source": [
    "#relationship between age and covid-19 hospitalization\n",
    "\n",
    "#patients diagnosed with COVID without the necessity of hospitalization\n",
    "\n",
    "#data distribution\n",
    "sns.histplot(data['AGE'].loc[(data.PATIENT_TYPE == 1)]) "
   ]
  },
  {
   "cell_type": "code",
   "execution_count": 6,
   "id": "c3d306a2",
   "metadata": {
    "execution": {
     "iopub.execute_input": "2022-12-20T20:46:17.404308Z",
     "iopub.status.busy": "2022-12-20T20:46:17.403148Z",
     "iopub.status.idle": "2022-12-20T20:46:17.873727Z",
     "shell.execute_reply": "2022-12-20T20:46:17.872765Z"
    },
    "papermill": {
     "duration": 0.479074,
     "end_time": "2022-12-20T20:46:17.875733",
     "exception": false,
     "start_time": "2022-12-20T20:46:17.396659",
     "status": "completed"
    },
    "tags": []
   },
   "outputs": [
    {
     "data": {
      "text/plain": [
       "<AxesSubplot:xlabel='AGE', ylabel='Count'>"
      ]
     },
     "execution_count": 6,
     "metadata": {},
     "output_type": "execute_result"
    },
    {
     "data": {
      "image/png": "[encoded data removed]",
      "text/plain": [
       "<Figure size 432x288 with 1 Axes>"
      ]
     },
     "metadata": {
      "needs_background": "light"
     },
     "output_type": "display_data"
    }
   ],
   "source": [
    "#patients diagnosed with COVID with degree 1\n",
    "sns.histplot(data['AGE'].loc[(data.PATIENT_TYPE == 2)]) "
   ]
  },
  {
   "cell_type": "markdown",
   "id": "0e7296c5",
   "metadata": {
    "papermill": {
     "duration": 0.004383,
     "end_time": "2022-12-20T20:46:17.885103",
     "exception": false,
     "start_time": "2022-12-20T20:46:17.880720",
     "status": "completed"
    },
    "tags": []
   },
   "source": [
    "We have a lot more individuals that needed hospitalization and we have two clear agre groups that looks more susceptible to need hospitalization when infected: **early infants** with age nearly to 0 years and **elderly people** around 60's\n"
   ]
  },
  {
   "cell_type": "code",
   "execution_count": 7,
   "id": "9c71be25",
   "metadata": {
    "execution": {
     "iopub.execute_input": "2022-12-20T20:46:17.896535Z",
     "iopub.status.busy": "2022-12-20T20:46:17.895752Z",
     "iopub.status.idle": "2022-12-20T20:46:18.450868Z",
     "shell.execute_reply": "2022-12-20T20:46:18.449828Z"
    },
    "papermill": {
     "duration": 0.563875,
     "end_time": "2022-12-20T20:46:18.453628",
     "exception": false,
     "start_time": "2022-12-20T20:46:17.889753",
     "status": "completed"
    },
    "tags": []
   },
   "outputs": [
    {
     "data": {
      "text/plain": [
       "<AxesSubplot:xlabel='AGE', ylabel='Count'>"
      ]
     },
     "execution_count": 7,
     "metadata": {},
     "output_type": "execute_result"
    },
    {
     "data": {
      "image/png": "[encoded data removed]",
      "text/plain": [
       "<Figure size 432x288 with 1 Axes>"
      ]
     },
     "metadata": {
      "needs_background": "light"
     },
     "output_type": "display_data"
    }
   ],
   "source": [
    "#lets see the distribution of age of patients with COVID-19 who died\n",
    "sns.histplot(data['AGE'].loc[(data.PATIENT_TYPE == 2) & (data.DATE_DIED != '9999-99-99')]) "
   ]
  },
  {
   "cell_type": "markdown",
   "id": "c96df79f",
   "metadata": {
    "papermill": {
     "duration": 0.004728,
     "end_time": "2022-12-20T20:46:18.463714",
     "exception": false,
     "start_time": "2022-12-20T20:46:18.458986",
     "status": "completed"
    },
    "tags": []
   },
   "source": [
    "We can see that although a lot of early infants are hospitalized, less than 1/4 die. On the other hand, in the elderly population, hospitalization looks like a bigger risk factor of dead, beacause nearly half of the people around 60's who were hospitalized died. "
   ]
  },
  {
   "cell_type": "code",
   "execution_count": 8,
   "id": "d2bd15c8",
   "metadata": {
    "execution": {
     "iopub.execute_input": "2022-12-20T20:46:18.475699Z",
     "iopub.status.busy": "2022-12-20T20:46:18.475317Z",
     "iopub.status.idle": "2022-12-20T20:46:18.505305Z",
     "shell.execute_reply": "2022-12-20T20:46:18.504221Z"
    },
    "papermill": {
     "duration": 0.03935,
     "end_time": "2022-12-20T20:46:18.507985",
     "exception": false,
     "start_time": "2022-12-20T20:46:18.468635",
     "status": "completed"
    },
    "tags": []
   },
   "outputs": [
    {
     "name": "stdout",
     "output_type": "stream",
     "text": [
      "n_females:  525064 n_males : 523511 abs_diff:  1553\n"
     ]
    }
   ],
   "source": [
    "#leets see how the genre relates to age and covid-19 death\n",
    "\n",
    "#see how many males and females we have in the dataset\n",
    "n_females = data['SEX'].loc[(data.SEX == 1)].count()\n",
    "n_males = data['SEX'].loc[(data.SEX == 2)].count()\n",
    "print('n_females: ', n_females, 'n_males :', n_males, 'abs_diff: ', abs(n_females-n_males))"
   ]
  },
  {
   "cell_type": "markdown",
   "id": "c2db4500",
   "metadata": {
    "papermill": {
     "duration": 0.004786,
     "end_time": "2022-12-20T20:46:18.518455",
     "exception": false,
     "start_time": "2022-12-20T20:46:18.513669",
     "status": "completed"
    },
    "tags": []
   },
   "source": [
    "We can see we have more females than males, but the difference is not so large so we propably don't have a significant bias on this variable"
   ]
  },
  {
   "cell_type": "code",
   "execution_count": 9,
   "id": "17e939fb",
   "metadata": {
    "execution": {
     "iopub.execute_input": "2022-12-20T20:46:18.530696Z",
     "iopub.status.busy": "2022-12-20T20:46:18.529582Z",
     "iopub.status.idle": "2022-12-20T20:46:19.078917Z",
     "shell.execute_reply": "2022-12-20T20:46:19.078062Z"
    },
    "papermill": {
     "duration": 0.557622,
     "end_time": "2022-12-20T20:46:19.081099",
     "exception": false,
     "start_time": "2022-12-20T20:46:18.523477",
     "status": "completed"
    },
    "tags": []
   },
   "outputs": [
    {
     "data": {
      "image/png": "[encoded data removed]",
      "text/plain": [
       "<Figure size 432x288 with 1 Axes>"
      ]
     },
     "metadata": {
      "needs_background": "light"
     },
     "output_type": "display_data"
    }
   ],
   "source": [
    "#leets see how the genre relates to age and covid-19 death\n",
    "hospitalized_and_death = data.loc[(data.PATIENT_TYPE == 2) & (data.DATE_DIED != '9999-99-99')]\n",
    "\n",
    "g = sns.histplot(data=hospitalized_and_death, x='AGE', hue='SEX', color='red')\n",
    "plt.legend(title='Sex', loc='upper left', labels=['Male', 'Female'])\n",
    "plt.show(g)"
   ]
  },
  {
   "cell_type": "markdown",
   "id": "78cbcf33",
   "metadata": {
    "papermill": {
     "duration": 0.005609,
     "end_time": "2022-12-20T20:46:19.092092",
     "exception": false,
     "start_time": "2022-12-20T20:46:19.086483",
     "status": "completed"
    },
    "tags": []
   },
   "source": [
    "We can see that although we have more females in the dataset, the majority of deaths of hospitalized patients are from males. This could indicate a correlation between genre and COVID-19 severity"
   ]
  }
 ],
 "metadata": {
  "kernelspec": {
   "display_name": "Python 3",
   "language": "python",
   "name": "python3"
  },
  "language_info": {
   "codemirror_mode": {
    "name": "ipython",
    "version": 3
   },
   "file_extension": ".py",
   "mimetype": "text/x-python",
   "name": "python",
   "nbconvert_exporter": "python",
   "pygments_lexer": "ipython3",
   "version": "3.7.12"
  },
  "papermill": {
   "default_parameters": {},
   "duration": 14.768926,
   "end_time": "2022-12-20T20:46:19.817601",
   "environment_variables": {},
   "exception": null,
   "input_path": "__notebook__.ipynb",
   "output_path": "__notebook__.ipynb",
   "parameters": {},
   "start_time": "2022-12-20T20:46:05.048675",
   "version": "2.3.4"
  }
 },
 "nbformat": 4,
 "nbformat_minor": 5
}
